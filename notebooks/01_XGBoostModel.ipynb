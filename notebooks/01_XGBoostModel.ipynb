{
 "cells": [
  {
   "cell_type": "markdown",
   "id": "f13d9532",
   "metadata": {},
   "source": [
    "## Notebook para Modelo Híbrido XGBoost + Wavelet"
   ]
  },
  {
   "cell_type": "markdown",
   "id": "5439a571",
   "metadata": {},
   "source": [
    "### Importar datasets de ações"
   ]
  },
  {
   "cell_type": "code",
   "execution_count": 2,
   "id": "e4042e22",
   "metadata": {},
   "outputs": [
    {
     "name": "stderr",
     "output_type": "stream",
     "text": [
      "[*********************100%***********************]  1 of 1 completed\n",
      "\n",
      "1 Failed download:\n",
      "['ITUB4.SA']: YFRateLimitError('Too Many Requests. Rate limited. Try after a while.')\n",
      "[*********************100%***********************]  1 of 1 completed\n",
      "\n",
      "1 Failed download:\n",
      "['BBDC4.SA']: YFRateLimitError('Too Many Requests. Rate limited. Try after a while.')\n",
      "[*********************100%***********************]  1 of 1 completed\n",
      "\n",
      "1 Failed download:\n",
      "['VALE3.SA']: YFRateLimitError('Too Many Requests. Rate limited. Try after a while.')\n"
     ]
    },
    {
     "name": "stdout",
     "output_type": "stream",
     "text": [
      "Contagem de valores infinitos:\n",
      "High: 0\n",
      "Low: 0\n",
      "Close: 0\n"
     ]
    }
   ],
   "source": [
    "\n",
    "#ITUB4  BBDC4 VALE3\n",
    "\n",
    "import yfinance as yf\n",
    "import numpy as np\n",
    "\n",
    "#VIVO\n",
    "ticker_ITUB4 = \"ITUB4.SA\"\n",
    "ticker_BBDC4 = \"BBDC4.SA\"\n",
    "ticker_VALE3 = \"VALE3.SA\"\n",
    "\n",
    "start_date = \"2018-01-01\"\n",
    "end_date = \"2025-01-01\"\n",
    "\n",
    "data_ITUB4 = yf.download(ticker_ITUB4, start=start_date, end=end_date)\n",
    "data_BBDC4 = yf.download(ticker_BBDC4, start=start_date, end=end_date)\n",
    "data_VALE3 = yf.download(ticker_VALE3, start=start_date, end=end_date)\n",
    "\n",
    "data_ITUB4.to_csv('data_ITUB4.csv')\n",
    "data_BBDC4.to_csv('data_BBDC4.csv')\n",
    "data_VALE3.to_csv('data_VALE3.csv')\n",
    "\n",
    "\n",
    "# Verifique quantas vezes 'inf' ou '-inf' aparecem em cada coluna\n",
    "print(\"Contagem de valores infinitos:\")\n",
    "print(\"High:\", np.isinf(data_ITUB4['High'].values).sum())\n",
    "print(\"Low:\", np.isinf(data_ITUB4['Low'].values).sum())\n",
    "print(\"Close:\", np.isinf(data_ITUB4['Close'].values).sum())"
   ]
  },
  {
   "cell_type": "markdown",
   "id": "821831a9",
   "metadata": {},
   "source": [
    "### Abstrair Indicadores técnicos"
   ]
  },
  {
   "cell_type": "code",
   "execution_count": 5,
   "id": "89c948b2",
   "metadata": {},
   "outputs": [
    {
     "ename": "Exception",
     "evalue": "input array has wrong dimensions",
     "output_type": "error",
     "traceback": [
      "\u001b[1;31m---------------------------------------------------------------------------\u001b[0m",
      "\u001b[1;31mException\u001b[0m                                 Traceback (most recent call last)",
      "Cell \u001b[1;32mIn[5], line 9\u001b[0m\n\u001b[0;32m      5\u001b[0m low_prices \u001b[38;5;241m=\u001b[39m np\u001b[38;5;241m.\u001b[39mascontiguousarray(data_ITUB4[\u001b[38;5;124m'\u001b[39m\u001b[38;5;124mLow\u001b[39m\u001b[38;5;124m'\u001b[39m]\u001b[38;5;241m.\u001b[39mvalues, dtype\u001b[38;5;241m=\u001b[39mnp\u001b[38;5;241m.\u001b[39mfloat64)\n\u001b[0;32m      6\u001b[0m close_prices \u001b[38;5;241m=\u001b[39m np\u001b[38;5;241m.\u001b[39mascontiguousarray(data_ITUB4[\u001b[38;5;124m'\u001b[39m\u001b[38;5;124mClose\u001b[39m\u001b[38;5;124m'\u001b[39m]\u001b[38;5;241m.\u001b[39mvalues, dtype\u001b[38;5;241m=\u001b[39mnp\u001b[38;5;241m.\u001b[39mfloat64)\n\u001b[1;32m----> 9\u001b[0m data_ITUB4[\u001b[38;5;124m'\u001b[39m\u001b[38;5;124mRSI\u001b[39m\u001b[38;5;124m'\u001b[39m] \u001b[38;5;241m=\u001b[39m \u001b[43mtalib\u001b[49m\u001b[38;5;241;43m.\u001b[39;49m\u001b[43mRSI\u001b[49m\u001b[43m(\u001b[49m\u001b[43mclose_prices\u001b[49m\u001b[43m,\u001b[49m\u001b[43m \u001b[49m\u001b[43mtimeperiod\u001b[49m\u001b[38;5;241;43m=\u001b[39;49m\u001b[38;5;241;43m14\u001b[39;49m\u001b[43m)\u001b[49m\n\u001b[0;32m     10\u001b[0m \u001b[38;5;28mprint\u001b[39m(data_ITUB4[\u001b[38;5;124m'\u001b[39m\u001b[38;5;124mRSI\u001b[39m\u001b[38;5;124m'\u001b[39m]\u001b[38;5;241m.\u001b[39mtail(\u001b[38;5;241m10\u001b[39m))\n\u001b[0;32m     12\u001b[0m \u001b[38;5;66;03m# MACD\u001b[39;00m\n",
      "File \u001b[1;32mc:\\Users\\Arthur\\miniconda3\\envs\\projeto-analise-financeira\\lib\\site-packages\\talib\\__init__.py:80\u001b[0m, in \u001b[0;36m_wrapper.<locals>.wrapper\u001b[1;34m(*args, **kwds)\u001b[0m\n\u001b[0;32m     77\u001b[0m     _args \u001b[38;5;241m=\u001b[39m args\n\u001b[0;32m     78\u001b[0m     _kwds \u001b[38;5;241m=\u001b[39m kwds\n\u001b[1;32m---> 80\u001b[0m result \u001b[38;5;241m=\u001b[39m func(\u001b[38;5;241m*\u001b[39m_args, \u001b[38;5;241m*\u001b[39m\u001b[38;5;241m*\u001b[39m_kwds)\n\u001b[0;32m     82\u001b[0m \u001b[38;5;66;03m# check to see if we got a streaming result\u001b[39;00m\n\u001b[0;32m     83\u001b[0m first_result \u001b[38;5;241m=\u001b[39m result[\u001b[38;5;241m0\u001b[39m] \u001b[38;5;28;01mif\u001b[39;00m \u001b[38;5;28misinstance\u001b[39m(result, \u001b[38;5;28mtuple\u001b[39m) \u001b[38;5;28;01melse\u001b[39;00m result\n",
      "File \u001b[1;32mc:\\Users\\Arthur\\miniconda3\\envs\\projeto-analise-financeira\\lib\\site-packages\\talib\\_func.pxi:4477\u001b[0m, in \u001b[0;36mtalib._ta_lib.RSI\u001b[1;34m()\u001b[0m\n",
      "File \u001b[1;32mc:\\Users\\Arthur\\miniconda3\\envs\\projeto-analise-financeira\\lib\\site-packages\\talib\\_func.pxi:24\u001b[0m, in \u001b[0;36mtalib._ta_lib.check_array\u001b[1;34m()\u001b[0m\n",
      "\u001b[1;31mException\u001b[0m: input array has wrong dimensions"
     ]
    }
   ],
   "source": [
    "import talib\n",
    "import numpy as np\n",
    "\n",
    "high_prices = np.ascontiguousarray(data_ITUB4['High'].values, dtype=np.float64)\n",
    "low_prices = np.ascontiguousarray(data_ITUB4['Low'].values, dtype=np.float64)\n",
    "close_prices = np.ascontiguousarray(data_ITUB4['Close'].values, dtype=np.float64)\n",
    "\n",
    "\n",
    "data_ITUB4['RSI'] = talib.RSI(close_prices, timeperiod=14)\n",
    "print(data_ITUB4['RSI'].tail(10))\n",
    "\n",
    "# MACD\n",
    "macd, macdsignal, macdhist = talib.MACD(close_prices, fastperiod=12, slowperiod=26, signalperiod=9)\n",
    "data_ITUB4['MACD'] = macd\n",
    "data_ITUB4['MACD_signal'] = macdsignal\n",
    "data_ITUB4['MACD_hist'] = macdhist\n",
    "\n",
    "# Bollinger Bands\n",
    "upper, middle, lower = talib.BBANDS(close_prices, timeperiod=20, nbdevup=2, nbdevdn=2, matype=0)\n",
    "data_ITUB4['BB_upper'] = upper\n",
    "data_ITUB4['BB_middle'] = middle\n",
    "data_ITUB4['BB_lower'] = lower\n",
    "\n",
    "# ADX\n",
    "data_ITUB4['ADX'] = talib.ADX(high_prices, low_prices, close_prices, timeperiod=14)\n",
    "\n",
    "print(\"DataFrame com Indicadores TA-Lib (últimas 10 linhas):\")\n",
    "print(data_ITUB4.tail(10))"
   ]
  }
 ],
 "metadata": {
  "kernelspec": {
   "display_name": "projeto-analise-financeira",
   "language": "python",
   "name": "python3"
  },
  "language_info": {
   "codemirror_mode": {
    "name": "ipython",
    "version": 3
   },
   "file_extension": ".py",
   "mimetype": "text/x-python",
   "name": "python",
   "nbconvert_exporter": "python",
   "pygments_lexer": "ipython3",
   "version": "3.10.18"
  }
 },
 "nbformat": 4,
 "nbformat_minor": 5
}
